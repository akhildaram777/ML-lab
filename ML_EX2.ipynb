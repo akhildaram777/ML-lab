{
  "nbformat": 4,
  "nbformat_minor": 0,
  "metadata": {
    "colab": {
      "provenance": [],
      "authorship_tag": "ABX9TyNvY7deyOStkZKVkbZW++RE",
      "include_colab_link": true
    },
    "kernelspec": {
      "name": "python3",
      "display_name": "Python 3"
    },
    "language_info": {
      "name": "python"
    }
  },
  "cells": [
    {
      "cell_type": "markdown",
      "metadata": {
        "id": "view-in-github",
        "colab_type": "text"
      },
      "source": [
        "<a href=\"https://colab.research.google.com/github/akhildaram777/ML-lab/blob/main/ML_EX2.ipynb\" target=\"_parent\"><img src=\"https://colab.research.google.com/assets/colab-badge.svg\" alt=\"Open In Colab\"/></a>"
      ]
    },
    {
      "cell_type": "code",
      "execution_count": 2,
      "metadata": {
        "colab": {
          "base_uri": "https://localhost:8080/"
        },
        "id": "TR9AhfSxAbO1",
        "outputId": "1636b8c9-72fa-46a9-b9a5-a74258ef9fba"
      },
      "outputs": [
        {
          "output_type": "stream",
          "name": "stdout",
          "text": [
            "\n",
            " The Given Training Data Set\n",
            "['Sunny', 'Warm', 'Normal', 'Strong', 'Warm', 'Same', 'Yes']\n",
            "['Sunny', 'Warm', 'High', 'Strong', 'Warm', 'Same', 'Yes']\n",
            "['Rainy', 'Cold', 'High', 'Strong', 'Warm', 'Change', 'No']\n",
            "['Sunny', 'Warm', 'High', 'Strong', 'Cool', 'Change', 'Yes']\n"
          ]
        }
      ],
      "source": [
        "import csv\n",
        "a = []\n",
        "print(\"\\n The Given Training Data Set\")\n",
        "with open('/content/Find S dataset.csv', 'r') as csvFile:\n",
        "    reader = csv.reader(csvFile)\n",
        "    for row in reader:\n",
        "        a.append (row)\n",
        "        print(row)\n",
        "\n",
        "\n"
      ]
    },
    {
      "cell_type": "code",
      "source": [
        "num_attributes = len(a[0])-1\n",
        "print(num_attributes)\n",
        "print(\"\\n The initial value of hypothesis: \")\n",
        "S = ['0'] * num_attributes\n",
        "G = ['?'] * num_attributes\n",
        "print (\"\\n The most specific hypothesis S0 : [0,0,0,0,0,0]\")\n",
        "print (\" \\n The most general hypothesis G0 : [?,?,?,?,?,?]\")\n",
        "\n",
        "for j in range(0,num_attributes):\n",
        "    S[j]=a[0][j];\n",
        "\n",
        "print(\"\\n Candidate Elimination algorithm Hypotheses Version Space Computation\\n\")\n",
        "temp=[]\n",
        "for i in range(0,len(a)):\n",
        "    if a[i][num_attributes]=='Yes':\n",
        "        for j in range(0,num_attributes):\n",
        "            if a[i][j]!=S[j]:\n",
        "                S[j]='?'\n",
        "        for j in range(0,num_attributes):\n",
        "            for k in range(1,len(temp)):\n",
        "                if temp[k][j]!='?' and temp[k][j]!=S[j]:\n",
        "                    del temp[k]\n",
        "        print(\"--------------------------------------------------------- \")\n",
        "        print(\" For Training Example No :{0} the hypothesis is S{0} \".format(i+1),S)\n",
        "        if (len(temp)==0):\n",
        "            print(\" For Training Example No :{0} the hypothesis is G{0} \".format(i+1),G)\n",
        "        else:\n",
        "            print(\" For  Positive Training Example No :{0} the hypothesis is G{0}\".format(i+1),temp)\n",
        "    if a[i][num_attributes]=='No':\n",
        "        for j in range(0,num_attributes):\n",
        "            if S[j] != a[i][j] and S[j]!= '?':\n",
        "                G[j]=S[j]\n",
        "                temp.append(G)\n",
        "                G = ['?'] * num_attributes\n",
        "        print(\"-------------------------------------------------------- \")\n",
        "        print(\" For Training Example No :{0} the hypothesis is S{0} \".format(i+1),S)\n",
        "        print(\" For Training Example No :{0} the hypothesis is G{0}\".format(i+1),temp)\n",
        "\n"
      ],
      "metadata": {
        "colab": {
          "base_uri": "https://localhost:8080/"
        },
        "id": "6KinXEwyEIn5",
        "outputId": "8ad51762-c088-4c7b-c4e9-ddf0b8785531"
      },
      "execution_count": 3,
      "outputs": [
        {
          "output_type": "stream",
          "name": "stdout",
          "text": [
            "6\n",
            "\n",
            " The initial value of hypothesis: \n",
            "\n",
            " The most specific hypothesis S0 : [0,0,0,0,0,0]\n",
            " \n",
            " The most general hypothesis G0 : [?,?,?,?,?,?]\n",
            "\n",
            " Candidate Elimination algorithm Hypotheses Version Space Computation\n",
            "\n",
            "--------------------------------------------------------- \n",
            " For Training Example No :1 the hypothesis is S1  ['Sunny', 'Warm', 'Normal', 'Strong', 'Warm', 'Same']\n",
            " For Training Example No :1 the hypothesis is G1  ['?', '?', '?', '?', '?', '?']\n",
            "--------------------------------------------------------- \n",
            " For Training Example No :2 the hypothesis is S2  ['Sunny', 'Warm', '?', 'Strong', 'Warm', 'Same']\n",
            " For Training Example No :2 the hypothesis is G2  ['?', '?', '?', '?', '?', '?']\n",
            "-------------------------------------------------------- \n",
            " For Training Example No :3 the hypothesis is S3  ['Sunny', 'Warm', '?', 'Strong', 'Warm', 'Same']\n",
            " For Training Example No :3 the hypothesis is G3 [['Sunny', '?', '?', '?', '?', '?'], ['?', 'Warm', '?', '?', '?', '?'], ['?', '?', '?', '?', '?', 'Same']]\n",
            "--------------------------------------------------------- \n",
            " For Training Example No :4 the hypothesis is S4  ['Sunny', 'Warm', '?', 'Strong', '?', '?']\n",
            " For  Positive Training Example No :4 the hypothesis is G4 [['Sunny', '?', '?', '?', '?', '?'], ['?', 'Warm', '?', '?', '?', '?']]\n"
          ]
        }
      ]
    },
    {
      "cell_type": "markdown",
      "source": [
        "#**using pandas**"
      ],
      "metadata": {
        "id": "Xa8YtZ3vG9Jw"
      }
    },
    {
      "cell_type": "code",
      "source": [
        "import pandas as pd\n",
        "data=pd.read_csv('/content/Find S dataset.csv')\n",
        "print(data)\n"
      ],
      "metadata": {
        "colab": {
          "base_uri": "https://localhost:8080/"
        },
        "id": "9hroEbZcHPPo",
        "outputId": "aa364861-4be2-426a-aaae-4899e9c0a61e"
      },
      "execution_count": 5,
      "outputs": [
        {
          "output_type": "stream",
          "name": "stdout",
          "text": [
            "   Sunny  Warm Normal  Strong Warm.1    Same  Yes\n",
            "0  Sunny  Warm   High  Strong   Warm    Same  Yes\n",
            "1  Rainy  Cold   High  Strong   Warm  Change   No\n",
            "2  Sunny  Warm   High  Strong   Cool  Change  Yes\n"
          ]
        }
      ]
    },
    {
      "cell_type": "code",
      "source": [
        "import numpy as np\n",
        "attributes=np.array(data)[:,:-1]\n",
        "print(attributes)\n",
        "target=np.array(data)[:,-1]\n",
        "print(target)\n"
      ],
      "metadata": {
        "colab": {
          "base_uri": "https://localhost:8080/"
        },
        "id": "QobW8axtJ0CJ",
        "outputId": "8dfb3312-b9ad-4ee8-eaa8-2811b5eed92f"
      },
      "execution_count": 6,
      "outputs": [
        {
          "output_type": "stream",
          "name": "stdout",
          "text": [
            "[['Sunny' 'Warm' 'High' 'Strong' 'Warm' 'Same']\n",
            " ['Rainy' 'Cold' 'High' 'Strong' 'Warm' 'Change']\n",
            " ['Sunny' 'Warm' 'High' 'Strong' 'Cool' 'Change']]\n",
            "['Yes' 'No' 'Yes']\n"
          ]
        }
      ]
    },
    {
      "cell_type": "code",
      "source": [
        "def learn(attributes, target):\n",
        "      for i,h in enumerate(attributes):\n",
        "        if target[i]==\"Yes\":\n",
        "          specific_h=attributes[i].copy()\n",
        "          break\n",
        "          print(specific_h)\n",
        "          general_h=[['?' for i in range(len(specific_h))] for i in range(len(specific_h))]\n",
        "          print(general_h)\n",
        "          for i,h in enumerate(attributes):\n",
        "            if target[i]==\"Yes\":\n",
        "              for x in range(len(specific_h)):\n",
        "                if h[x]!=specific_h[x]:\n",
        "                  specific_h[x]='?'\n",
        "                  general_h[x][x]='?'\n",
        "                  if target[i]==\"No\":\n",
        "                    for x in range(len(specific_h)):\n",
        "                      if h[x]!=specific_h[x]:\n",
        "                        general_h[x][x]=specific_h[x]\n",
        "                      else:\n",
        "                          general_h[x][x]='?'\n",
        "                          print(i+1)\n",
        "                          print(specific_h)\n",
        "                          print(general_h)\n",
        "                          return specific_h, general_h\n",
        "                          s,g=learn(attributes,target)\n"
      ],
      "metadata": {
        "id": "1c90usRXKqex"
      },
      "execution_count": 7,
      "outputs": []
    }
  ]
}