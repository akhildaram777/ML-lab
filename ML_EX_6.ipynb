{
  "nbformat": 4,
  "nbformat_minor": 0,
  "metadata": {
    "colab": {
      "provenance": [],
      "authorship_tag": "ABX9TyPLIsTCqKORnrrRAAZOU6lZ",
      "include_colab_link": true
    },
    "kernelspec": {
      "name": "python3",
      "display_name": "Python 3"
    },
    "language_info": {
      "name": "python"
    }
  },
  "cells": [
    {
      "cell_type": "markdown",
      "metadata": {
        "id": "view-in-github",
        "colab_type": "text"
      },
      "source": [
        "<a href=\"https://colab.research.google.com/github/akhildaram777/ML-lab/blob/main/ML_EX_6.ipynb\" target=\"_parent\"><img src=\"https://colab.research.google.com/assets/colab-badge.svg\" alt=\"Open In Colab\"/></a>"
      ]
    },
    {
      "cell_type": "code",
      "source": [
        "import pandas as pd"
      ],
      "metadata": {
        "id": "Jq0QTDVbNXLh"
      },
      "execution_count": 1,
      "outputs": []
    },
    {
      "cell_type": "code",
      "execution_count": 2,
      "metadata": {
        "id": "87VknOM5wej0"
      },
      "outputs": [],
      "source": [
        "\n",
        "df = pd.DataFrame({'color': ['red', 'green', 'blue', 'red']})\n",
        "\n",
        "one_hot = pd.get_dummies(df['color'])\n",
        "\n",
        "df1 = pd.concat([df, one_hot], axis=1)\n",
        "\n",
        "df1 = df1.drop('color', axis=1)"
      ]
    },
    {
      "cell_type": "code",
      "source": [
        "\n",
        "data = {'Color': ['Red', 'Green', 'Blue', 'Red', 'Blue']}\n",
        "df = pd.DataFrame(data)\n",
        "\n",
        "dummy_df = pd.get_dummies(df['Color'], drop_first=True, prefix='Color')\n",
        "\n",
        "df = pd.concat([df, dummy_df], axis=1)"
      ],
      "metadata": {
        "id": "8CdkvWFMLtWy"
      },
      "execution_count": 3,
      "outputs": []
    },
    {
      "cell_type": "code",
      "source": [
        "from sklearn.preprocessing import LabelEncoder\n",
        "\n",
        "df = pd.DataFrame({'color': ['red', 'green', 'blue', 'red', 'green']})\n",
        "\n",
        "print(f\"Before Encoding the Data:\\n\\n{df}\\n\")\n",
        "\n",
        "le = LabelEncoder()\n",
        "\n",
        "df['color_label'] = le.fit_transform(df['color'])"
      ],
      "metadata": {
        "colab": {
          "base_uri": "https://localhost:8080/"
        },
        "id": "1ifS9zVaLxoJ",
        "outputId": "0ed2182f-ae1b-4271-c28e-50c1edfc3421"
      },
      "execution_count": 4,
      "outputs": [
        {
          "output_type": "stream",
          "name": "stdout",
          "text": [
            "Before Encoding the Data:\n",
            "\n",
            "   color\n",
            "0    red\n",
            "1  green\n",
            "2   blue\n",
            "3    red\n",
            "4  green\n",
            "\n"
          ]
        }
      ]
    },
    {
      "cell_type": "code",
      "source": [
        "\n",
        "df = pd.DataFrame({'quality': ['low', 'medium', 'high', 'medium']})\n",
        "print(f\"Before Encoding the Data:\\n\\n{df}\\n\")\n",
        "\n",
        "quality_map = {'low': 0, 'medium': 1, 'high': 2}\n",
        "\n",
        "df['quality_map'] = df['quality'].map(quality_map)"
      ],
      "metadata": {
        "colab": {
          "base_uri": "https://localhost:8080/"
        },
        "id": "Jget8jBMMDUx",
        "outputId": "6a5bc97d-0fa3-4118-8ac5-492c7f1f2970"
      },
      "execution_count": 5,
      "outputs": [
        {
          "output_type": "stream",
          "name": "stdout",
          "text": [
            "Before Encoding the Data:\n",
            "\n",
            "  quality\n",
            "0     low\n",
            "1  medium\n",
            "2    high\n",
            "3  medium\n",
            "\n"
          ]
        }
      ]
    },
    {
      "cell_type": "code",
      "source": [
        "\n",
        "import pandas as pd\n",
        "\n",
        "df = pd.DataFrame({'animal': ['cat', 'dog', 'bird', 'cat']})\n",
        "print(f\"Before Encoding the Data:\\n\\n{df}\\n\")\n",
        "\n",
        "animal_map = {'cat': 0, 'dog': 1, 'bird': 2}\n",
        "df['animal'] = df['animal'].map(animal_map)\n",
        "df['animal'] = df['animal'].apply(lambda x: format(x, 'b'))\n",
        "\n",
        "print(f\"After Encoding the Data:\\n\\n{df}\\n\")"
      ],
      "metadata": {
        "colab": {
          "base_uri": "https://localhost:8080/"
        },
        "id": "Z40cchDzMGWR",
        "outputId": "bf430247-7dfe-408d-8a4f-7d167d34be2b"
      },
      "execution_count": 6,
      "outputs": [
        {
          "output_type": "stream",
          "name": "stdout",
          "text": [
            "Before Encoding the Data:\n",
            "\n",
            "  animal\n",
            "0    cat\n",
            "1    dog\n",
            "2   bird\n",
            "3    cat\n",
            "\n",
            "After Encoding the Data:\n",
            "\n",
            "  animal\n",
            "0      0\n",
            "1      1\n",
            "2     10\n",
            "3      0\n",
            "\n"
          ]
        }
      ]
    },
    {
      "cell_type": "code",
      "source": [
        "\n",
        "df = pd.DataFrame({'fruit': ['apple', 'banana', 'apple', 'banana']})\n",
        "print(f\"Before Encoding the Data:\\n\\n{df}\\n\")\n",
        "\n",
        "counts = df['fruit'].value_counts()\n",
        "df['fruit'] = df['fruit'].map(counts)\n",
        "\n",
        "print(f\"After Encoding the Data:\\n\\n{df}\\n\")"
      ],
      "metadata": {
        "colab": {
          "base_uri": "https://localhost:8080/"
        },
        "id": "9rp0kH27MJfh",
        "outputId": "06816890-f280-45a6-cbaa-ec44e4b66a14"
      },
      "execution_count": 7,
      "outputs": [
        {
          "output_type": "stream",
          "name": "stdout",
          "text": [
            "Before Encoding the Data:\n",
            "\n",
            "    fruit\n",
            "0   apple\n",
            "1  banana\n",
            "2   apple\n",
            "3  banana\n",
            "\n",
            "After Encoding the Data:\n",
            "\n",
            "   fruit\n",
            "0      2\n",
            "1      2\n",
            "2      2\n",
            "3      2\n",
            "\n"
          ]
        }
      ]
    },
    {
      "cell_type": "code",
      "source": [
        "\n",
        "df = pd.DataFrame({'color': ['red', 'green', 'blue', 'red', 'green'],\n",
        "                   'target': [0, 1, 0, 1, 0]})\n",
        "print(f\"Before Encoding the Data:\\n\\n{df}\\n\")\n",
        "\n",
        "target_mean = df.groupby('color')['target'].mean()\n",
        "\n",
        "df['color_label'] = df['color'].map(target_mean)\n",
        "\n",
        "\n",
        "print(f\"After Encoding the Data:\\n\\n{df}\")"
      ],
      "metadata": {
        "colab": {
          "base_uri": "https://localhost:8080/"
        },
        "id": "fKP2ViOaMMeI",
        "outputId": "136d0431-f994-4285-f949-372f02c3c6bd"
      },
      "execution_count": 8,
      "outputs": [
        {
          "output_type": "stream",
          "name": "stdout",
          "text": [
            "Before Encoding the Data:\n",
            "\n",
            "   color  target\n",
            "0    red       0\n",
            "1  green       1\n",
            "2   blue       0\n",
            "3    red       1\n",
            "4  green       0\n",
            "\n",
            "After Encoding the Data:\n",
            "\n",
            "   color  target  color_label\n",
            "0    red       0          0.5\n",
            "1  green       1          0.5\n",
            "2   blue       0          0.0\n",
            "3    red       1          0.5\n",
            "4  green       0          0.5\n"
          ]
        }
      ]
    }
  ]
}